{
  "cells": [
    {
      "cell_type": "markdown",
      "id": "eed68ae2",
      "metadata": {
        "id": "eed68ae2"
      },
      "source": [
        "# 1 - Intermediate Python\n",
        "\n",
        "<b>Summary</b>:\n",
        "> * Loops\n",
        ">> * `while`\n",
        ">> * `for`\n",
        ">> * `range` function\n",
        ">> * `break` statement\n",
        ">> * List comprehensions\n",
        "> * Functions\n",
        ">> * Defining a function\n",
        ">> * `return` statement\n",
        ">> * Documentation strings\n",
        ">> * Default arguments\n",
        "> * Classes\n",
        ">> * Creating classes\n",
        ">> * Working with classes\n",
        "> * Reading and writing files\n",
        "\n",
        "For more details see: \n",
        "- https://docs.python.org/3/tutorial/controlflow.html \n",
        "- https://docs.python.org/3/tutorial/controlflow.html#defining-functions\n",
        "- https://docs.python.org/3.7/tutorial/classes.html\n",
        "- https://docs.python.org/3/tutorial/inputoutput.html"
      ]
    },
    {
      "cell_type": "markdown",
      "id": "ba55230b",
      "metadata": {
        "id": "ba55230b"
      },
      "source": [
        "## Loops\n",
        "\n",
        "### `while`\n",
        "\n",
        "It repeats the body until the condition remains true."
      ]
    },
    {
      "cell_type": "code",
      "execution_count": null,
      "id": "dc87dcd5",
      "metadata": {
        "colab": {
          "base_uri": "https://localhost:8080/"
        },
        "id": "dc87dcd5",
        "outputId": "ebad6f4a-86b4-490c-a1a7-348a9977fa7b"
      },
      "outputs": [
        {
          "output_type": "stream",
          "name": "stdout",
          "text": [
            "0\n",
            "1\n",
            "2\n",
            "3\n",
            "4\n"
          ]
        }
      ],
      "source": [
        "b=0\n",
        "while b<5:\n",
        "  print(b)\n",
        "  b=b+1"
      ]
    },
    {
      "cell_type": "markdown",
      "id": "191e9efa",
      "metadata": {
        "id": "191e9efa"
      },
      "source": [
        "### `for`\n",
        "Iterates over the objects in a list/tuple."
      ]
    },
    {
      "cell_type": "code",
      "execution_count": null,
      "id": "64c5651a",
      "metadata": {
        "colab": {
          "base_uri": "https://localhost:8080/"
        },
        "id": "64c5651a",
        "outputId": "0d3f3680-4257-483d-df2d-8267209bbce0"
      },
      "outputs": [
        {
          "output_type": "stream",
          "name": "stdout",
          "text": [
            "cat 3\n",
            "window 6\n",
            "defenestrate 12\n"
          ]
        }
      ],
      "source": [
        "words=['cat','window','defenestrate']\n",
        "for w in words:\n",
        "  print(w,len(w))"
      ]
    },
    {
      "cell_type": "markdown",
      "id": "9768d5c8",
      "metadata": {
        "id": "9768d5c8"
      },
      "source": [
        "Or through dictionaries."
      ]
    },
    {
      "cell_type": "code",
      "execution_count": null,
      "id": "32006365",
      "metadata": {
        "colab": {
          "base_uri": "https://localhost:8080/"
        },
        "id": "32006365",
        "outputId": "c56ef5aa-5653-41d7-aa02-c6e23a813a74"
      },
      "outputs": [
        {
          "output_type": "stream",
          "name": "stdout",
          "text": [
            "jack\n",
            "kate\n",
            "jane\n",
            "jack 30\n",
            "kate 24\n",
            "jane 24\n"
          ]
        }
      ],
      "source": [
        "age={'jack':30,'kate':24,'jane':24}\n",
        "for k in age: # iterates through the keys\n",
        "  print (k)\n",
        "\n",
        "for k, val in age.items():\n",
        "  print(k,val)"
      ]
    },
    {
      "cell_type": "code",
      "source": [
        "age.items()"
      ],
      "metadata": {
        "colab": {
          "base_uri": "https://localhost:8080/"
        },
        "id": "T8yvpBNVOUXf",
        "outputId": "2bb2e195-2227-486c-a1de-a40c4e08e4fd"
      },
      "id": "T8yvpBNVOUXf",
      "execution_count": null,
      "outputs": [
        {
          "output_type": "execute_result",
          "data": {
            "text/plain": [
              "dict_items([('jack', 30), ('kate', 24), ('jane', 24)])"
            ]
          },
          "metadata": {},
          "execution_count": 5
        }
      ]
    },
    {
      "cell_type": "markdown",
      "id": "eb712f25",
      "metadata": {
        "id": "eb712f25"
      },
      "source": [
        "### `range` function\n",
        "\n",
        "Iteration over a sequence of numbers."
      ]
    },
    {
      "cell_type": "code",
      "source": [
        "for i in range(0,5):\n",
        "  print (i)\n",
        "\n",
        "print(\"----------\")\n",
        "\n",
        "for j in range(5):\n",
        "  print (j)"
      ],
      "metadata": {
        "colab": {
          "base_uri": "https://localhost:8080/"
        },
        "id": "uzH0Ky8yKDEk",
        "outputId": "c4f62741-0ab5-47d7-c082-3744e464c9ef"
      },
      "id": "uzH0Ky8yKDEk",
      "execution_count": null,
      "outputs": [
        {
          "output_type": "stream",
          "name": "stdout",
          "text": [
            "0\n",
            "1\n",
            "2\n",
            "3\n",
            "4\n",
            "----------\n",
            "0\n",
            "1\n",
            "2\n",
            "3\n",
            "4\n"
          ]
        }
      ]
    },
    {
      "cell_type": "markdown",
      "id": "a8f4c53f",
      "metadata": {
        "id": "a8f4c53f"
      },
      "source": [
        "Try to see the documentation of the function `range`. Range can be used also with a second argument specifying the beginning of the sequence."
      ]
    },
    {
      "cell_type": "code",
      "execution_count": null,
      "id": "e7787f5d",
      "metadata": {
        "id": "e7787f5d"
      },
      "outputs": [],
      "source": [
        "range?"
      ]
    },
    {
      "cell_type": "markdown",
      "id": "06d25b5a",
      "metadata": {
        "id": "06d25b5a"
      },
      "source": [
        "The third argument defines the step"
      ]
    },
    {
      "cell_type": "code",
      "execution_count": null,
      "id": "ed11768d",
      "metadata": {
        "id": "ed11768d",
        "colab": {
          "base_uri": "https://localhost:8080/"
        },
        "outputId": "d2d6248f-560f-4742-d346-07fcb47ef391"
      },
      "outputs": [
        {
          "output_type": "stream",
          "name": "stdout",
          "text": [
            "0\n",
            "2\n",
            "4\n"
          ]
        }
      ],
      "source": [
        "for i in range(0,5,2):\n",
        "  print (i)"
      ]
    },
    {
      "cell_type": "markdown",
      "id": "bc11b5be",
      "metadata": {
        "id": "bc11b5be"
      },
      "source": [
        "### `break` statement\n",
        "\n",
        "`break` stops the iteration of a loop."
      ]
    },
    {
      "cell_type": "code",
      "execution_count": null,
      "id": "941f4544",
      "metadata": {
        "id": "941f4544",
        "colab": {
          "base_uri": "https://localhost:8080/"
        },
        "outputId": "cc4067ec-a6f3-48b2-ac55-82ed74a26f99"
      },
      "outputs": [
        {
          "output_type": "stream",
          "name": "stdout",
          "text": [
            "1\n",
            "2\n",
            "3\n",
            "4\n",
            "5\n",
            "6\n",
            "7\n",
            "8\n",
            "9\n",
            "10\n",
            "11\n",
            "12\n",
            "13\n",
            "14\n",
            "15\n",
            "16\n"
          ]
        }
      ],
      "source": [
        "counter=0\n",
        "while True:\n",
        "  counter+=1\n",
        "  print (counter)\n",
        "  if counter > 15:\n",
        "    break"
      ]
    },
    {
      "cell_type": "code",
      "execution_count": null,
      "id": "a2b6bbf3",
      "metadata": {
        "colab": {
          "base_uri": "https://localhost:8080/"
        },
        "id": "a2b6bbf3",
        "outputId": "a40a2bc9-c542-48ec-c1dc-133c206ec173"
      },
      "outputs": [
        {
          "output_type": "stream",
          "name": "stdout",
          "text": [
            "38 is not a prime number, it equals 2 * 19\n"
          ]
        }
      ],
      "source": [
        "n=38\n",
        "is_a_prime=True\n",
        "for x in range (2,n):\n",
        "  if n % x==0:\n",
        "    print(n,'is not a prime number, it equals', x, '*', n//x)\n",
        "    is_a_prime=False\n",
        "    break\n",
        "if is_a_prime:\n",
        "  print(n,\"is a prime\")"
      ]
    },
    {
      "cell_type": "markdown",
      "id": "9b19a8b3",
      "metadata": {
        "id": "9b19a8b3"
      },
      "source": [
        "### List comprehensions\n",
        "\n",
        "A concise way to create lists through loops."
      ]
    },
    {
      "cell_type": "code",
      "execution_count": null,
      "id": "18243563",
      "metadata": {
        "colab": {
          "base_uri": "https://localhost:8080/"
        },
        "id": "18243563",
        "outputId": "4f0442a1-0d22-4ef3-840d-ba8b9b970c10"
      },
      "outputs": [
        {
          "output_type": "execute_result",
          "data": {
            "text/plain": [
              "[0,\n",
              " 1,\n",
              " 4,\n",
              " 9,\n",
              " 16,\n",
              " 25,\n",
              " 36,\n",
              " 49,\n",
              " 64,\n",
              " 81,\n",
              " 100,\n",
              " 121,\n",
              " 144,\n",
              " 169,\n",
              " 196,\n",
              " 225,\n",
              " 256,\n",
              " 289,\n",
              " 324,\n",
              " 361,\n",
              " 400,\n",
              " 441,\n",
              " 484,\n",
              " 529,\n",
              " 576]"
            ]
          },
          "metadata": {},
          "execution_count": 16
        }
      ],
      "source": [
        "squares=[x**2 for x in range(25)]\n",
        "squares"
      ]
    },
    {
      "cell_type": "markdown",
      "id": "fb4fc53a",
      "metadata": {
        "id": "fb4fc53a"
      },
      "source": [
        "Which is equivalent to:"
      ]
    },
    {
      "cell_type": "code",
      "execution_count": null,
      "id": "1087749d",
      "metadata": {
        "id": "1087749d",
        "colab": {
          "base_uri": "https://localhost:8080/"
        },
        "outputId": "c68d5315-876e-4e85-e5bc-e5653790c6bb"
      },
      "outputs": [
        {
          "output_type": "execute_result",
          "data": {
            "text/plain": [
              "[0, 1, 4, 9, 16, 25, 36, 49, 64, 81]"
            ]
          },
          "metadata": {},
          "execution_count": 17
        }
      ],
      "source": [
        "squares = []\n",
        "for x in range(10):\n",
        "  squares.append(x**2)\n",
        "\n",
        "squares"
      ]
    },
    {
      "cell_type": "markdown",
      "id": "7e1042d9",
      "metadata": {
        "id": "7e1042d9"
      },
      "source": [
        "Comprehensions can be as complicated as you want, including also `if` statements."
      ]
    },
    {
      "cell_type": "code",
      "execution_count": null,
      "id": "bd2cb221",
      "metadata": {
        "colab": {
          "base_uri": "https://localhost:8080/"
        },
        "id": "bd2cb221",
        "outputId": "fd164162-14ce-4ef7-d673-2684b00e1d7f"
      },
      "outputs": [
        {
          "output_type": "execute_result",
          "data": {
            "text/plain": [
              "[[1, 3], [1, 4], [2, 3], [2, 1], [2, 4], [3, 1], [3, 4]]"
            ]
          },
          "metadata": {},
          "execution_count": 18
        }
      ],
      "source": [
        "data=[[x,y] for x in [1,2,3] for y in [3,1,4] if x!= y]\n",
        "data"
      ]
    },
    {
      "cell_type": "markdown",
      "id": "99953f88",
      "metadata": {
        "id": "99953f88"
      },
      "source": [
        "And can be used to create also dictionaries"
      ]
    },
    {
      "cell_type": "code",
      "execution_count": null,
      "id": "7b704936",
      "metadata": {
        "colab": {
          "base_uri": "https://localhost:8080/"
        },
        "id": "7b704936",
        "outputId": "8762682a-f6eb-4b51-b7a9-96a54c4e4375"
      },
      "outputs": [
        {
          "output_type": "execute_result",
          "data": {
            "text/plain": [
              "{2: 4, 4: 16, 6: 36}"
            ]
          },
          "metadata": {},
          "execution_count": 19
        }
      ],
      "source": [
        "d={x: x**2 for x in (2,4,6)}\n",
        "d"
      ]
    },
    {
      "cell_type": "markdown",
      "id": "482b64b1",
      "metadata": {
        "id": "482b64b1"
      },
      "source": [
        "### Defining a function\n",
        "\n",
        "It is defined with the statement `def`. The body is indented."
      ]
    },
    {
      "cell_type": "code",
      "execution_count": null,
      "id": "5e9e769a",
      "metadata": {
        "id": "5e9e769a",
        "colab": {
          "base_uri": "https://localhost:8080/"
        },
        "outputId": "046ff6cc-4c9b-49cf-b760-3e80d1978aad"
      },
      "outputs": [
        {
          "output_type": "stream",
          "name": "stdout",
          "text": [
            "Hi\n",
            "Hi\n"
          ]
        }
      ],
      "source": [
        "def first_function():\n",
        "  print('Hi')\n",
        "first_function()\n",
        "\n",
        "f=first_function()\n",
        "f"
      ]
    },
    {
      "cell_type": "markdown",
      "id": "c1ce0d51",
      "metadata": {
        "id": "c1ce0d51"
      },
      "source": [
        "Arguments are passed through the round brackets"
      ]
    },
    {
      "cell_type": "code",
      "execution_count": null,
      "id": "d70893a7",
      "metadata": {
        "colab": {
          "base_uri": "https://localhost:8080/"
        },
        "id": "d70893a7",
        "outputId": "f7198845-f32f-4440-ccfc-de3017f1b940"
      },
      "outputs": [
        {
          "output_type": "stream",
          "name": "stdout",
          "text": [
            "I'm Andrea from Italy\n"
          ]
        }
      ],
      "source": [
        "def print_my_info(name,nationality):\n",
        "  print('I\\'m {} from {}'.format(name,nationality))\n",
        "print_my_info('Andrea','Italy')"
      ]
    },
    {
      "cell_type": "markdown",
      "id": "765a0b55",
      "metadata": {
        "id": "765a0b55"
      },
      "source": [
        "### <i>return</i> statement"
      ]
    },
    {
      "cell_type": "code",
      "execution_count": null,
      "id": "6abb908e",
      "metadata": {
        "colab": {
          "base_uri": "https://localhost:8080/"
        },
        "id": "6abb908e",
        "outputId": "5d59856b-77dc-4141-cbb6-57c513586652"
      },
      "outputs": [
        {
          "output_type": "stream",
          "name": "stdout",
          "text": [
            "[0, 1, 1, 2, 3, 5, 8, 13, 21, 34, 55, 89]\n"
          ]
        }
      ],
      "source": [
        "def fib(n):\n",
        "  result = []\n",
        "  a,b= 0,1\n",
        "  while a < n:\n",
        "    result.append(a)\n",
        "    a,b = b, a+b\n",
        "  return result\n",
        "result=fib(100)\n",
        "print(result)"
      ]
    },
    {
      "cell_type": "markdown",
      "id": "bebff075",
      "metadata": {
        "id": "bebff075"
      },
      "source": [
        "It can be useful to return multiple variables"
      ]
    },
    {
      "cell_type": "code",
      "execution_count": null,
      "id": "552f9153",
      "metadata": {
        "colab": {
          "base_uri": "https://localhost:8080/"
        },
        "id": "552f9153",
        "outputId": "0c7b90ae-ecd4-4008-8ec5-f18003752545"
      },
      "outputs": [
        {
          "output_type": "stream",
          "name": "stdout",
          "text": [
            "27.3272 54.6544\n"
          ]
        }
      ],
      "source": [
        "def get_circumference_area_circle(radius):\n",
        "  pi=3.4159\n",
        "  return 2 * pi * radius, pi *radius *radius\n",
        "circ,area=get_circumference_area_circle(4)\n",
        "print(circ, area)"
      ]
    },
    {
      "cell_type": "markdown",
      "id": "6f99e562",
      "metadata": {
        "id": "6f99e562"
      },
      "source": [
        "### Documentation strings\n",
        "\n",
        "It is always a good habit to describe what the function does.\n",
        "It can be encoded inside the function with triple quotes:"
      ]
    },
    {
      "cell_type": "code",
      "execution_count": null,
      "id": "cbba5b25",
      "metadata": {
        "id": "cbba5b25"
      },
      "outputs": [],
      "source": [
        "def get_circumference_area_circle(radius):\n",
        "  \"\"\"\n",
        "  Evaluates the power of the first n integers\n",
        "  The default power is the square\n",
        "  \"\"\"\n",
        "  pi=3.4159\n",
        "  return 2 * pi * radius, pi *radius *radius"
      ]
    },
    {
      "cell_type": "markdown",
      "id": "26adca83",
      "metadata": {
        "id": "26adca83"
      },
      "source": [
        "The documentation can be inspected as for built-in methods"
      ]
    },
    {
      "cell_type": "code",
      "execution_count": null,
      "id": "e0ffdb77",
      "metadata": {
        "id": "e0ffdb77"
      },
      "outputs": [],
      "source": [
        "get_circumference_area_circle?"
      ]
    },
    {
      "cell_type": "markdown",
      "id": "07eac6d5",
      "metadata": {
        "id": "07eac6d5"
      },
      "source": [
        "Another way to see the documentation is to use the following method, which converts it to a string"
      ]
    },
    {
      "cell_type": "code",
      "execution_count": null,
      "id": "1a04f747",
      "metadata": {
        "colab": {
          "base_uri": "https://localhost:8080/"
        },
        "id": "1a04f747",
        "outputId": "e4e55d78-8c9d-4fb3-bb2d-9e97cfd4ed0c"
      },
      "outputs": [
        {
          "output_type": "stream",
          "name": "stdout",
          "text": [
            "\n",
            "  Evaluates the power of the first n integers\n",
            "  The default power is the square\n",
            "  \n"
          ]
        }
      ],
      "source": [
        "print(get_circumference_area_circle.__doc__)"
      ]
    },
    {
      "cell_type": "markdown",
      "id": "e6c4017f",
      "metadata": {
        "id": "e6c4017f"
      },
      "source": [
        "### Default arguments"
      ]
    },
    {
      "cell_type": "code",
      "execution_count": null,
      "id": "5c5e68e6",
      "metadata": {
        "id": "5c5e68e6"
      },
      "outputs": [],
      "source": [
        "def evaluate_powers(n,power=2,print_result=True):\n",
        "  \"\"\"\n",
        "  Evaluates the power of the first n integers.\n",
        "  The default power is the square.\n",
        "  \"\"\"\n",
        "  powers=[]\n",
        "  for i in range (n):\n",
        "    powers.append(i**power)\n",
        "  if print_result:\n",
        "    print(powers)\n",
        "    return power"
      ]
    },
    {
      "cell_type": "code",
      "execution_count": null,
      "id": "031ba725",
      "metadata": {
        "id": "031ba725",
        "colab": {
          "base_uri": "https://localhost:8080/"
        },
        "outputId": "bbd0a43c-8d0d-4c7d-a9ed-e3891dbacb86"
      },
      "outputs": [
        {
          "output_type": "stream",
          "name": "stdout",
          "text": [
            "[0, 1, 4, 9]\n",
            "2\n",
            "[0, 1, 8, 27]\n",
            "3\n"
          ]
        }
      ],
      "source": [
        "result=evaluate_powers(4)\n",
        "print(result)\n",
        "result=evaluate_powers(4,3)\n",
        "print(result)"
      ]
    },
    {
      "cell_type": "code",
      "source": [
        "def evaluate_powers(n,power=2,print_result=True):\n",
        "  powers=[i**power for i in range (n) ]\n",
        "  if print_result:\n",
        "    print(powers)\n",
        "    return power"
      ],
      "metadata": {
        "id": "KiMizUoGrENw"
      },
      "id": "KiMizUoGrENw",
      "execution_count": null,
      "outputs": []
    },
    {
      "cell_type": "code",
      "source": [
        "result2=evaluate_powers(4)\n",
        "print(result2)\n",
        "result=evaluate_powers(4,3)\n",
        "print(result2)"
      ],
      "metadata": {
        "colab": {
          "base_uri": "https://localhost:8080/"
        },
        "id": "8c5OIuviryNW",
        "outputId": "6c61660f-27d4-41ec-bdb0-a5b91883acab"
      },
      "id": "8c5OIuviryNW",
      "execution_count": null,
      "outputs": [
        {
          "output_type": "stream",
          "name": "stdout",
          "text": [
            "[0, 1, 4, 9]\n",
            "2\n",
            "[0, 1, 8, 27]\n",
            "2\n"
          ]
        }
      ]
    },
    {
      "cell_type": "markdown",
      "id": "89d9b0ea",
      "metadata": {
        "id": "89d9b0ea"
      },
      "source": [
        "## Classes\n",
        "\n",
        "### Why do we use Classes?\n",
        "\n",
        "Classes provide a means of bundling information about an object and object functions together. Creating a new class creates a new type of object, allowing new instances of that type to be made. Each class instance can have attributes attached to it. Class instances can also have methods (defined by its class) for modifying its state.\n",
        "\n",
        "To understand the need for creating a class, let’s consider an example. Let’s say you wanted to track the number of dogs which may have different attributes like breed and age. If a list is used, the first element could be the dog’s breed while the second element could represent its age. Let’s suppose there are 100 different dogs, then how would you know which element is supposed to be which? What if you wanted to add other properties to these dogs? This lacks organization and it demonstrates the need for classes.\n",
        "\n",
        "Class creates a user-defined data structure, which holds its own data members and member functions that can be accessed and used by creating an instance of that class. A class is like a blueprint for an object and how to work with it.\n",
        "\n",
        "### Creating a class\n",
        "\n",
        "\n",
        "Here are simple rules to create a class in Python:\n",
        "\n",
        "- Classes are created by keyword ```class```.\n",
        "- Attributes are the variables that belong to class.\n",
        "- Attributes are always visible and can be accessed using dot (.) operator. Eg.: Myclass.Myattribute\n",
        "- Attributes can be made not directly visible by adding a double underscore prefix to their name. Eg.: Myclass.__Hiddenattribute\n",
        "\n",
        "\n",
        "In the following example, the ```class``` keyword indicates that you are creating a class followed by the name of the class (Dog in this case).\n"
      ]
    },
    {
      "cell_type": "code",
      "execution_count": 1,
      "id": "919ad2ca",
      "metadata": {
        "id": "919ad2ca",
        "colab": {
          "base_uri": "https://localhost:8080/"
        },
        "outputId": "44712f3b-4ae3-49bd-ffc0-2d81ba0ee8c0"
      },
      "outputs": [
        {
          "output_type": "stream",
          "name": "stdout",
          "text": [
            "brown\n"
          ]
        }
      ],
      "source": [
        "class Dog:  \n",
        "\n",
        "    # Class Variable  \n",
        "    animal = 'dog'      \n",
        "\n",
        "    # The init method or constructor  \n",
        "    def __init__(self, breed):  \n",
        "\n",
        "        # Instance Variable  \n",
        "        self.breed = breed              \n",
        "\n",
        "    # Adds an instance variable   \n",
        "    def setColor(self, color):  \n",
        "        self.color = color  \n",
        "\n",
        "    # Retrieves instance variable      \n",
        "    def getColor(self):      \n",
        "        return self.color \n",
        "    \n",
        "# Driver Code  \n",
        "Rodger = Dog(\"pug\")  \n",
        "Rodger.setColor(\"brown\")  \n",
        "print(Rodger.getColor())"
      ]
    },
    {
      "cell_type": "markdown",
      "id": "b0c70837",
      "metadata": {
        "id": "b0c70837"
      },
      "source": [
        "The ```__init__``` method is a constructor. Constructors are used to initialize the state of an object. Like methods, a constructor also contains a collection of statements (i.e. instructions) that are executed when an oject is created. It is run as soon as an object of a class is instantiated. The method is useful to do any initialization you want to do with your object.\n",
        "\n",
        "The first argument of a method is often called ```self``` which represents the instance of the class. Calling it ```self``` is just a convention, but is considered best practice. Using the ```self``` keyword, we can access the attributes and methods of the class in python.\n",
        "\n",
        "\n",
        "We do not give a value for the parameter ```self``` when we call the method, Python provides it. If we have a method which takes no arguments, then we still have to have one argument. When we call a method of this object as ```myobject.method(arg1, arg2)```, this is automatically converted by Python into ```MyClass.method(myobject, arg1, arg2)```. \n",
        "\n",
        "\n",
        "\n"
      ]
    },
    {
      "cell_type": "markdown",
      "id": "d9d890f7",
      "metadata": {
        "id": "d9d890f7"
      },
      "source": [
        "## Reading and writing files\n",
        "\n",
        "In order to analyze data you have to first read it in to your program. Once you've performed your calculations, you may want to save it for future use. Here we will read in a data file containing observations from a Gaussian distribution of unknown mean and variance, calculate the mean and variance, and save the results to a file for future use. \n",
        "\n"
      ]
    },
    {
      "cell_type": "code",
      "source": [
        "#if the file is stored locally\n",
        "\"\"\"\n",
        "from google.colab import files\n",
        "uploded = files.upload()\n",
        "\"\"\"\n"
      ],
      "metadata": {
        "colab": {
          "base_uri": "https://localhost:8080/",
          "height": 36
        },
        "id": "esL28GggS5jE",
        "outputId": "85acf92e-82b4-4ea6-b73c-661b15c4f251"
      },
      "id": "esL28GggS5jE",
      "execution_count": 2,
      "outputs": [
        {
          "output_type": "execute_result",
          "data": {
            "text/plain": [
              "'\\nfrom google.colab import files\\nuploded = files.upload()\\n'"
            ],
            "application/vnd.google.colaboratory.intrinsic+json": {
              "type": "string"
            }
          },
          "metadata": {},
          "execution_count": 2
        }
      ]
    },
    {
      "cell_type": "code",
      "source": [
        "#in_path = \"https://raw.githubusercontent.com/Valentinaba/ICTP-QLS/main/Numerical%20Methods/data.tsv\""
      ],
      "metadata": {
        "id": "tzOGxDGzuquD"
      },
      "id": "tzOGxDGzuquD",
      "execution_count": null,
      "outputs": []
    },
    {
      "cell_type": "code",
      "execution_count": 5,
      "id": "369074d4",
      "metadata": {
        "id": "369074d4"
      },
      "outputs": [],
      "source": [
        "# hard code the path to the data\n",
        "in_path = \"/Users/williamrshoemaker/My Drive (williamrshoemaker@gmail.com)/QLS_python_course/Lesson_1/data.tsv\""
      ]
    },
    {
      "cell_type": "code",
      "source": [
        "# often data has a header\n",
        "# 'r' = read\n",
        "file = open(in_path, 'r')\n",
        "\n",
        "# get the header\n",
        "header = file.readline()\n",
        "print(header)"
      ],
      "metadata": {
        "id": "sRI5oxscg9E2"
      },
      "id": "sRI5oxscg9E2",
      "execution_count": 7,
      "outputs": []
    },
    {
      "cell_type": "markdown",
      "id": "2a43ff33",
      "metadata": {
        "id": "2a43ff33"
      },
      "source": [
        "So we know the data is in the second index of each line, i.e., ```line[1]```."
      ]
    },
    {
      "cell_type": "code",
      "execution_count": null,
      "id": "879e6948",
      "metadata": {
        "id": "879e6948"
      },
      "outputs": [],
      "source": [
        "data = []\n",
        "for line in file:\n",
        "    # remove any extra characters at the beginning of the string\n",
        "    line = line.strip()\n",
        "    # split the data by the deliminator. If you don't know what the deliminator is, check the data\n",
        "    line = line.split('\\t')\n",
        "    # turn the observation into a float\n",
        "    line_data = float(line[1])\n",
        "    data.append(line_data)\n",
        "\n",
        "    \n",
        "mean_data = sum(data)/len(data)\n",
        "variance_data = sum([(data_i - mean_data)**2 for data_i in data])/len(data)\n",
        "    \n",
        "print(\"Mean =\", mean_data)\n",
        "print(\"Variance =\", variance_data)\n",
        "    \n",
        "# now we close the file\n",
        "file.close()"
      ]
    },
    {
      "cell_type": "markdown",
      "id": "b00328a1",
      "metadata": {
        "id": "b00328a1"
      },
      "source": [
        "Alternatively, you could open the file with a ```with``` command and Python will automatically close the file once it has looped through all the lines, but you will need to add a statement to make sure Python ignores the header in your file."
      ]
    },
    {
      "cell_type": "code",
      "execution_count": null,
      "id": "478da812",
      "metadata": {
        "id": "478da812"
      },
      "outputs": [],
      "source": [
        "with open(in_path, 'r') as file:\n",
        "    read_data = file.read()\n",
        "    \n",
        "# We can check that the file has been automatically closed.f.closed\n",
        "file.closed"
      ]
    },
    {
      "cell_type": "markdown",
      "id": "4e45291c",
      "metadata": {
        "id": "4e45291c"
      },
      "source": [
        "Now let's save the results of your calculation. Here the argument ```'w'``` means \"write\" and ```%``` is an operator to convert the float to a string"
      ]
    },
    {
      "cell_type": "code",
      "execution_count": null,
      "id": "bcaa883b",
      "metadata": {
        "id": "bcaa883b"
      },
      "outputs": [],
      "source": [
        "out_path = \"/Users/williamrshoemaker/My Drive (williamrshoemaker@gmail.com)/QLS_python_course/Lesson_1/processed_data.tsv\"\n",
        "\n",
        "file_out = open(out_path, 'w')\n",
        "\n",
        "# write the header\n",
        "file_out.write('Mean\\tVariance\\n')\n",
        "# write the data\n",
        "file_out.write('%f\\t%s\\n' % (mean_data, variance_data)) \n",
        "\n",
        "\n",
        "file_out.close()"
      ]
    },
    {
      "cell_type": "code",
      "execution_count": null,
      "id": "70d0a3c9",
      "metadata": {
        "id": "70d0a3c9"
      },
      "outputs": [],
      "source": []
    },
    {
      "cell_type": "code",
      "source": [],
      "metadata": {
        "id": "qheZEu6hTFXo"
      },
      "id": "qheZEu6hTFXo",
      "execution_count": null,
      "outputs": []
    }
  ],
  "metadata": {
    "kernelspec": {
      "display_name": "Python 3 (ipykernel)",
      "language": "python",
      "name": "python3"
    },
    "language_info": {
      "codemirror_mode": {
        "name": "ipython",
        "version": 3
      },
      "file_extension": ".py",
      "mimetype": "text/x-python",
      "name": "python",
      "nbconvert_exporter": "python",
      "pygments_lexer": "ipython3",
      "version": "3.8.13"
    },
    "colab": {
      "provenance": [],
      "collapsed_sections": []
    }
  },
  "nbformat": 4,
  "nbformat_minor": 5
}