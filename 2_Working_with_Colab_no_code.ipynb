{
  "cells": [
    {
      "cell_type": "markdown",
      "metadata": {
        "id": "view-in-github",
        "colab_type": "text"
      },
      "source": [
        "<a href=\"https://colab.research.google.com/github/Valentinaba/ICTP-QLS/blob/main/2_Working_with_Colab_no_code.ipynb\" target=\"_parent\"><img src=\"https://colab.research.google.com/assets/colab-badge.svg\" alt=\"Open In Colab\"/></a>"
      ]
    },
    {
      "cell_type": "markdown",
      "id": "f5322b1c",
      "metadata": {
        "id": "f5322b1c"
      },
      "source": [
        "# 2 - Working with Colab\n",
        "\n",
        "<b>Summary</b>:\n",
        "> * Reading and writing files in Colab\n",
        "> * Working on your own (mini) project \n",
        "\n",
        "\n",
        "For more details see: \n",
        "- https://neptune.ai/blog/google-colab-dealing-with-files"
      ]
    },
    {
      "cell_type": "markdown",
      "id": "28806ed9",
      "metadata": {
        "id": "28806ed9"
      },
      "source": [
        "### Loading text via URL\n",
        "\n",
        "If you have a link to a plain text file you can import it directly into collab. For example, we'll use the `requests` library to load the Iris dataset"
      ]
    },
    {
      "cell_type": "code",
      "execution_count": null,
      "id": "94cd7d04",
      "metadata": {
        "id": "94cd7d04"
      },
      "outputs": [],
      "source": [
        "\n",
        "url = 'https://raw.githubusercontent.com/venky14/Machine-Learning-with-Iris-Dataset/master/Iris.csv'\n",
        "\n"
      ]
    },
    {
      "cell_type": "markdown",
      "id": "4dc46050",
      "metadata": {
        "id": "4dc46050"
      },
      "source": [
        "Though often you'll need to upload data to Colab. Here you can do that by creating a folder in the left sidebar of colab. Create a folder called `data` and drag and drop `data.csv`. Now you can import the file."
      ]
    },
    {
      "cell_type": "code",
      "execution_count": null,
      "id": "c418ea0e",
      "metadata": {
        "id": "c418ea0e"
      },
      "outputs": [],
      "source": []
    },
    {
      "cell_type": "markdown",
      "id": "51943e1e",
      "metadata": {
        "id": "51943e1e"
      },
      "source": [
        "In order to analyze data you have to first read it in to your program. Once you've performed your calculations, you may want to save it for future use. Here we will read in a data file containing observations from a Gaussian distribution of unknown mean and variance, calculate the mean and variance. "
      ]
    },
    {
      "cell_type": "code",
      "execution_count": null,
      "id": "a8a9e187",
      "metadata": {
        "id": "a8a9e187"
      },
      "outputs": [],
      "source": []
    },
    {
      "cell_type": "markdown",
      "id": "9699174b",
      "metadata": {
        "id": "9699174b"
      },
      "source": [
        "Now let's save the results to a file for future use. "
      ]
    },
    {
      "cell_type": "code",
      "execution_count": null,
      "id": "dd1c7253",
      "metadata": {
        "id": "dd1c7253"
      },
      "outputs": [],
      "source": []
    },
    {
      "cell_type": "markdown",
      "id": "972a72a5",
      "metadata": {
        "id": "972a72a5"
      },
      "source": [
        "### Mini-project\n",
        "\n",
        "Often you will need to write your own code to answer your scientific questions. Python libraries are helpful, but they do not contain every conceivable function. Furthermore, it's useful to have some idea of what a function in a library is doing. Being able to describe what is going on \"under the hood\" can help you understand whether or not a given function is suitable for your project.\n",
        " \n",
        "An effective way to build this ability is through learning-by-doing, so today you will select one of four small projects and code solutions in *pure Python*.\n",
        "\n",
        "\n",
        "\n"
      ]
    },
    {
      "cell_type": "markdown",
      "id": "Y-dOf76U7gTR",
      "metadata": {
        "id": "Y-dOf76U7gTR"
      },
      "source": [
        "1. Say you have a population of $k$ pairs of rabbits, free to reproduce without limit. In this toy model, rabbits are able to mate at the age of one month so that at the end of its second month a female can produce another pair of rabbits. Suppose that our rabbits never die and that the female always produces one new pair (one male, one female) every month *from the second month on*. \n",
        "After $n$ generations, how many rabbits will you have? Given the framing of the question, you do not need a model of population dynamics to provide an answer. You can simply use the Fibonacci sequence \n",
        "\n",
        "$F_{n} = \\left\\{\\begin{matrix}\n",
        "F_{n-1} + F_{n-2}, &  n > 1 \\\\\n",
        "1, & n = 1 \\\\\n",
        "0, &  n = 0 \\\\\n",
        "\\end{matrix}\\right.$\n",
        "\n",
        "Set $n=5$ and $k=35$. (Note that the Fibonacci sequence gives the number of rabbits for one pair!)\n"
      ]
    },
    {
      "cell_type": "code",
      "execution_count": null,
      "id": "ckVMGSoN7g6O",
      "metadata": {
        "id": "ckVMGSoN7g6O",
        "colab": {
          "base_uri": "https://localhost:8080/",
          "height": 53
        },
        "outputId": "376eca44-0675-41a5-bdf4-ab395b93f12c"
      },
      "outputs": [
        {
          "output_type": "execute_result",
          "data": {
            "text/plain": [
              "'\\nHint. Construct a function that has n,k as input, and contains a loop.\\nCheck whether the results is correct for small n, with pen and paper.\\n'"
            ],
            "application/vnd.google.colaboratory.intrinsic+json": {
              "type": "string"
            }
          },
          "metadata": {},
          "execution_count": 1
        }
      ],
      "source": [
        "\"\"\"\n",
        "Hint. Construct a function that has n,k as input, and contains a loop.\n",
        "Check whether the results is correct for small n, with pen and paper.\n",
        "\"\"\""
      ]
    },
    {
      "cell_type": "markdown",
      "id": "Xo3vXWqD7d2n",
      "metadata": {
        "id": "Xo3vXWqD7d2n"
      },
      "source": [
        "2. In DNA, symbols 'A' and 'T' are complements of each other, as are 'C' and 'G'. The reverse complement of DNA $s$ is the string $s^{c}$ formed by reversing the symbols of $s$, then taking the complement of each symbol (e.g., the reverse complement of \"GTCA\" is \"TGAC\"). Read in the string of DNA in `data_2.txt` and print the reverse compliment. \n",
        "\n",
        "\n",
        "\n",
        "\n"
      ]
    },
    {
      "cell_type": "code",
      "execution_count": null,
      "id": "7w1mANDD7YxU",
      "metadata": {
        "id": "7w1mANDD7YxU"
      },
      "outputs": [],
      "source": [
        "\"\"\"\n",
        "Hint. There are many simple ways to achieve this result.\n",
        "A possibility is to use \"if\" conditions, and string slicings.\n",
        "Additionally, you can try to use a dictionary for the complements, and separate the problem into two functions:\n",
        "- one returning the reverse of an input string \n",
        "- one returning the complement of an input string\n",
        "\"\"\""
      ]
    },
    {
      "cell_type": "markdown",
      "id": "i_biLV6v7Z7y",
      "metadata": {
        "id": "i_biLV6v7Z7y"
      },
      "source": [
        "3. In a weighted alphabet, every symbol is assigned a positive real number called a weight. A string formed from a weighted alphabet is called a weighted string, and its weight is equal to the sum of the weights of its symbols. The standard weight assigned to each member of the 20-symbol amino acid alphabet is the monoisotopic mass of the corresponding amino acid. So the molecular weight of a protein can be calculated as the sum of the weights of its amino acids. Given the amino acid string in `data_3.txt`, calculate the molecular weight. Using the molecular weights of each amino acid provided in `amino_acid_weights.txt`.\n"
      ]
    },
    {
      "cell_type": "code",
      "execution_count": null,
      "id": "fs4uhF977azw",
      "metadata": {
        "id": "fs4uhF977azw"
      },
      "outputs": [],
      "source": [
        "\"\"\"\n",
        "Hint: Divide the problem into separate parts.\n",
        "- Read the molecular weights, and save them into a dictionary \n",
        "- Read the data\n",
        "- Make a function that has a string as input, the molecular weights dictionary, and returns its weight. \n",
        "- Calculate all molecular weights.\n",
        "\"\"\""
      ]
    },
    {
      "cell_type": "markdown",
      "id": "oLKP57PG7OSF",
      "metadata": {
        "id": "oLKP57PG7OSF"
      },
      "source": [
        "4. Often in biology we want to calculate the distance between observations. This could be the distance in species composition between two communities or distance in the genetic composition of two strands of DNA, to provide two examples. Here you will be calculating the latter as the **fraction** of nucleotides that differ between DNA strings $s_{1}$ and $s_{2}$, $d(s_{1}, s_{2})$.  You are provided with a list of $n$ sequences in `data_4.txt`, calculate the distance between each pair of sequencies ($d(s_{i}, s_{j})$) and make a nested list in matrix form. \n",
        "\n",
        "$\\mathbf{d} = \n",
        "\\begin{pmatrix}\n",
        "d_{1,1} & d_{1,2} & \\cdots & d_{1,n} \\\\\n",
        "d_{2,1} & d_{2,2} & \\cdots & d_{2,n} \\\\\n",
        "\\vdots  & \\vdots  & \\ddots & \\vdots  \\\\\n",
        "d_{n,1} & d_{n,2} & \\cdots & d_{n,n} \n",
        "\\end{pmatrix}$\n"
      ]
    },
    {
      "cell_type": "code",
      "execution_count": null,
      "id": "75174f9b",
      "metadata": {
        "id": "75174f9b"
      },
      "outputs": [],
      "source": [
        "\"\"\"\n",
        "Hint: Divide the problem into separate parts.\n",
        "- Read the data\n",
        "- Construct a function that calculates the distance (fraction) of two strings.\n",
        "- Construct the matrix\n",
        "\"\"\""
      ]
    }
  ],
  "metadata": {
    "colab": {
      "provenance": [],
      "include_colab_link": true
    },
    "kernelspec": {
      "display_name": "Python 3 (ipykernel)",
      "language": "python",
      "name": "python3"
    },
    "language_info": {
      "codemirror_mode": {
        "name": "ipython",
        "version": 3
      },
      "file_extension": ".py",
      "mimetype": "text/x-python",
      "name": "python",
      "nbconvert_exporter": "python",
      "pygments_lexer": "ipython3",
      "version": "3.8.13"
    }
  },
  "nbformat": 4,
  "nbformat_minor": 5
}